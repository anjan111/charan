{
 "cells": [
  {
   "cell_type": "markdown",
   "metadata": {},
   "source": [
    "### file :-\n",
    "\n",
    "===>>  Its a part of the storage device ( it can store some information)\n",
    "\n",
    "===>>  Files are stores the related information\n",
    "\n",
    "### Types of the files :-\n",
    "\n",
    "====>>> Text file\n",
    "\n",
    "================>>> Alphanumarical data\n",
    "\n",
    "================>>> Easy to write and read\n",
    "\n",
    "===============>>>> .c / .py / .doc / .ppt/ .txt\n",
    "\n",
    "====>>>  Binary file\n",
    "\n",
    "=================>>> 0's / 1's\n",
    "\n",
    "=================>>> not easy to write and read\n",
    "\n",
    "================>>>  all image files / video files / .exe\n",
    "\n",
    "\n",
    "####  file operation\n",
    "\n",
    "==>>> create file\n",
    "\n",
    "==>>> open file \n",
    "\n",
    "==>>> write into file\n",
    "\n",
    "==>>> read data from file\n",
    "\n",
    "==>>> close file\n",
    "\n",
    "#### file handling\n",
    "\n",
    "====>>> the file operation we can do using python \n",
    "\n",
    "file object created by open function \n",
    "\n",
    "file_object = open(\"file name \" , \"mode\")\n",
    "\n",
    "====>>> write()\n",
    "\n",
    "===>>> read()\n",
    "\n",
    "===>>> readline()\n",
    "\n",
    "===>>> readlines()\n",
    "\n",
    "====>> close()\n",
    "\n",
    "===>>> tell()\n",
    "\n",
    "===>>> seek()\n",
    "\n",
    "#####  mode :-\n",
    "\n",
    "===>> write ---->>>  w / w+\n",
    "\n",
    "===>> read ----->>  r/ r+\n",
    "\n",
    "===>> append---->>  a / a+"
   ]
  },
  {
   "cell_type": "code",
   "execution_count": 5,
   "metadata": {},
   "outputs": [
    {
     "name": "stdout",
     "output_type": "stream",
     "text": [
      "enter some : \"hai\"\n"
     ]
    }
   ],
   "source": [
    "### write  mode\n",
    "\n",
    "# w\n",
    "'''\n",
    "===>>> file is not existed then creates the file\n",
    "\n",
    "===>>> read operational method not supported\n",
    "\n",
    "===>> file is already existed then open the file and delete existing data\n",
    "'''\n",
    "fo = open(\"sample.txt\", \"w\")\n",
    "#fo.read()\n",
    "data = input(\"enter some : \")\n",
    "fo.write(data)\n",
    "fo.close()"
   ]
  },
  {
   "cell_type": "code",
   "execution_count": 10,
   "metadata": {},
   "outputs": [
    {
     "name": "stdout",
     "output_type": "stream",
     "text": [
      "enter some : \"456\"\n"
     ]
    }
   ],
   "source": [
    "# append ---->> a\n",
    "'''\n",
    "===>>> file is not existed then creates the file\n",
    "\n",
    "===>>> read operational method not supported\n",
    "\n",
    "===>> file is already existed then open the file and  existing data is safe\n",
    "'''\n",
    "fo = open(\"sample1.txt\", \"a\")\n",
    "#fo.read()\n",
    "data = input(\"enter some : \")\n",
    "fo.write(data)\n",
    "fo.close()"
   ]
  },
  {
   "cell_type": "code",
   "execution_count": 26,
   "metadata": {},
   "outputs": [
    {
     "name": "stdout",
     "output_type": "stream",
     "text": [
      "0\n",
      "hello anja\n",
      "-2\n",
      "0\n",
      "hello anjan kumar123456\n",
      "\n",
      "kfdndlfkn\n",
      "\n",
      "['hello anjan kumar123456\\n', 'kfdndlfkn\\n', 'kfjgfklgj\\n', 'lfkfhglfkg\\n', 'liljfdlkg\\n', 'iffjdjglkrfg\\n', 'kdfknnglkdfng\\n', 'iflkfgl\\n', 'jkfkdgldf\\n', 'klnflkdkngl\\n', 'flgfdlg\\n', 'kdngldfk\\n', 'jhkjf']\n",
      "hello anjan kumar123456\n",
      "\n",
      "kfdndlfkn\n",
      "\n",
      "kfjgfklgj\n",
      "\n",
      "lfkfhglfkg\n",
      "\n",
      "liljfdlkg\n",
      "\n",
      "iffjdjglkrfg\n",
      "\n",
      "kdfknnglkdfng\n",
      "\n",
      "iflkfgl\n",
      "\n",
      "jkfkdgldf\n",
      "\n",
      "klnflkdkngl\n",
      "\n",
      "flgfdlg\n",
      "\n",
      "kdngldfk\n",
      "\n",
      "jhkjf\n"
     ]
    }
   ],
   "source": [
    "# read ----> r\n",
    "'''\n",
    "===>>> file is not existed then its IOError\n",
    "\n",
    "===>>> write operational method not supported\n",
    "\n",
    "===>> file is already existed then open the file and  existing data is safe\n",
    "'''\n",
    "fo = open(\"sample1.txt\", \"r\")\n",
    "print fo.tell() # 0\n",
    "data = fo.read(10)\n",
    "print data\n",
    "print fo.tell() # 10\n",
    "fo.seek(0,0)\n",
    "print fo.tell()\n",
    "print fo.readline() # single line\n",
    "print fo.readline()\n",
    "fo.seek(0,0)\n",
    "data = fo.readlines()\n",
    "print data\n",
    "for line in data:\n",
    "    print line\n",
    "#data = input(\"enter some : \")\n",
    "#fo.write(data)\n",
    "#print data\n",
    "fo.close()"
   ]
  },
  {
   "cell_type": "code",
   "execution_count": 27,
   "metadata": {},
   "outputs": [],
   "source": [
    "## wap for to create a output file which caontains number and factorial of a number \n",
    "\n",
    "### 3\n",
    "#### 5 --->>  120\n",
    "#### 6 --->> 720\n",
    "#### 4 ----> 24\n",
    "\n",
    "### read the number from input file and update the number and factorial of a number to \n",
    "# output file "
   ]
  },
  {
   "cell_type": "code",
   "execution_count": 28,
   "metadata": {},
   "outputs": [],
   "source": [
    "### sat & sun---->> maths ---->> linear algebra , statistics , probability\n",
    "\n",
    "### sat & sun  --->> Data processing --->> theory , examples  ( sun --->> 2 project , 1 project)"
   ]
  },
  {
   "cell_type": "code",
   "execution_count": null,
   "metadata": {},
   "outputs": [],
   "source": [
    "###3 Machine Learning \n",
    "##### 2  to 3 weeks \n",
    "\n",
    "### interview questions "
   ]
  }
 ],
 "metadata": {
  "kernelspec": {
   "display_name": "Python 2",
   "language": "python",
   "name": "python2"
  },
  "language_info": {
   "codemirror_mode": {
    "name": "ipython",
    "version": 2
   },
   "file_extension": ".py",
   "mimetype": "text/x-python",
   "name": "python",
   "nbconvert_exporter": "python",
   "pygments_lexer": "ipython2",
   "version": "2.7.16"
  }
 },
 "nbformat": 4,
 "nbformat_minor": 2
}
