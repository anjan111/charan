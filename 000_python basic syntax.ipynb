{
 "cells": [
  {
   "cell_type": "markdown",
   "metadata": {},
   "source": [
    "===>>> syntax\n",
    "=============\n",
    "\n",
    "===>>>>>>  The structure for writing a program\n",
    "\n",
    "===>>> program\n",
    "===============\n",
    "\n",
    "===>>> Collection of instructions to do any one specific task\n",
    "\n",
    "\n",
    "===>>> instruction:-\n",
    "=================\n",
    "\n",
    "===>>> A line of code with in the program\n",
    "\n",
    "# Types of instructions\n",
    "\n",
    "===>>> Comments :-\n",
    "\n",
    "===>>>  An instructon which can't be executable\n",
    "\n",
    "---------->>> Single line comment   #\n",
    "\n",
    "---------->>> Multiple line comment  '''  '''\n",
    "\n",
    "===>>> Statements\n",
    "\n",
    "===>>  An instruction which can be executable"
   ]
  },
  {
   "cell_type": "code",
   "execution_count": 1,
   "metadata": {},
   "outputs": [
    {
     "name": "stdout",
     "output_type": "stream",
     "text": [
      "hello\n",
      "hai\n",
      "123\n"
     ]
    }
   ],
   "source": [
    "# this is single line comment\n",
    "'''\n",
    "this is\n",
    "multiple line \n",
    "comment\n",
    "'''\n",
    "a =123\n",
    "print \"hello\"\n",
    "print \"hai\"\n",
    "print a"
   ]
  },
  {
   "cell_type": "markdown",
   "metadata": {},
   "source": [
    "# keywords\n",
    "\n",
    "===>> predefined words\n",
    "\n",
    "===>> reserved words\n",
    "\n",
    "===>> keyword file having all keywords -->>kwlist"
   ]
  },
  {
   "cell_type": "code",
   "execution_count": 2,
   "metadata": {},
   "outputs": [
    {
     "name": "stdout",
     "output_type": "stream",
     "text": [
      "['and', 'as', 'assert', 'break', 'class', 'continue', 'def', 'del', 'elif', 'else', 'except', 'exec', 'finally', 'for', 'from', 'global', 'if', 'import', 'in', 'is', 'lambda', 'not', 'or', 'pass', 'print', 'raise', 'return', 'try', 'while', 'with', 'yield']\n"
     ]
    }
   ],
   "source": [
    "import keyword\n",
    "print keyword.kwlist"
   ]
  },
  {
   "cell_type": "markdown",
   "metadata": {},
   "source": [
    "# Identifier\n",
    "\n",
    "===>> User defined words\n",
    "\n",
    "===>> programmer words\n",
    "\n",
    "===>> To give the name entities for variables , functions, classes\n",
    "\n",
    "# Rules\n",
    "\n",
    "===>> we can use alphabets   a-z / A-Z\n",
    "\n",
    "===>> we can use digits  0-9\n",
    "\n",
    "===>> we  can use underscore  _\n",
    "\n",
    "===>> don't start with digits\n",
    "\n",
    "===>> don't special character\n",
    "\n",
    "===>> don't use keywords"
   ]
  },
  {
   "cell_type": "code",
   "execution_count": 3,
   "metadata": {},
   "outputs": [
    {
     "name": "stdout",
     "output_type": "stream",
     "text": [
      "123\n"
     ]
    }
   ],
   "source": [
    "# variables \n",
    "'''\n",
    "===>> to store the data with in memory loc\n",
    "===>> we can access the data from memory\n",
    "===>> we can directly use the variable\n",
    "'''\n",
    "var =123 \n",
    "print var"
   ]
  },
  {
   "cell_type": "code",
   "execution_count": 4,
   "metadata": {},
   "outputs": [
    {
     "name": "stdout",
     "output_type": "stream",
     "text": [
      "123\n"
     ]
    }
   ],
   "source": [
    "vAR =123 \n",
    "print vAR"
   ]
  },
  {
   "cell_type": "code",
   "execution_count": 5,
   "metadata": {},
   "outputs": [
    {
     "name": "stdout",
     "output_type": "stream",
     "text": [
      "123\n"
     ]
    }
   ],
   "source": [
    "var12 =123 \n",
    "print var12"
   ]
  },
  {
   "cell_type": "code",
   "execution_count": 6,
   "metadata": {},
   "outputs": [
    {
     "name": "stdout",
     "output_type": "stream",
     "text": [
      "123\n"
     ]
    }
   ],
   "source": [
    "_va_r =123 \n",
    "print _va_r"
   ]
  },
  {
   "cell_type": "code",
   "execution_count": 7,
   "metadata": {},
   "outputs": [
    {
     "ename": "SyntaxError",
     "evalue": "invalid syntax (<ipython-input-7-433702752182>, line 1)",
     "output_type": "error",
     "traceback": [
      "\u001b[1;36m  File \u001b[1;32m\"<ipython-input-7-433702752182>\"\u001b[1;36m, line \u001b[1;32m1\u001b[0m\n\u001b[1;33m    va@r =223\u001b[0m\n\u001b[1;37m      ^\u001b[0m\n\u001b[1;31mSyntaxError\u001b[0m\u001b[1;31m:\u001b[0m invalid syntax\n"
     ]
    }
   ],
   "source": [
    "va@r =223"
   ]
  },
  {
   "cell_type": "code",
   "execution_count": 9,
   "metadata": {},
   "outputs": [
    {
     "ename": "SyntaxError",
     "evalue": "invalid syntax (<ipython-input-9-e2b79a3cbae1>, line 1)",
     "output_type": "error",
     "traceback": [
      "\u001b[1;36m  File \u001b[1;32m\"<ipython-input-9-e2b79a3cbae1>\"\u001b[1;36m, line \u001b[1;32m1\u001b[0m\n\u001b[1;33m    print  =133\u001b[0m\n\u001b[1;37m           ^\u001b[0m\n\u001b[1;31mSyntaxError\u001b[0m\u001b[1;31m:\u001b[0m invalid syntax\n"
     ]
    }
   ],
   "source": [
    "print  =133"
   ]
  },
  {
   "cell_type": "code",
   "execution_count": 10,
   "metadata": {},
   "outputs": [
    {
     "ename": "SyntaxError",
     "evalue": "invalid syntax (<ipython-input-10-c22f7fdc6005>, line 1)",
     "output_type": "error",
     "traceback": [
      "\u001b[1;36m  File \u001b[1;32m\"<ipython-input-10-c22f7fdc6005>\"\u001b[1;36m, line \u001b[1;32m1\u001b[0m\n\u001b[1;33m    2var =123\u001b[0m\n\u001b[1;37m       ^\u001b[0m\n\u001b[1;31mSyntaxError\u001b[0m\u001b[1;31m:\u001b[0m invalid syntax\n"
     ]
    }
   ],
   "source": [
    "2var =123"
   ]
  },
  {
   "cell_type": "code",
   "execution_count": null,
   "metadata": {},
   "outputs": [],
   "source": [
    "#### anaconda 2.7"
   ]
  },
  {
   "cell_type": "code",
   "execution_count": null,
   "metadata": {},
   "outputs": [],
   "source": []
  }
 ],
 "metadata": {
  "kernelspec": {
   "display_name": "Python 2",
   "language": "python",
   "name": "python2"
  },
  "language_info": {
   "codemirror_mode": {
    "name": "ipython",
    "version": 2
   },
   "file_extension": ".py",
   "mimetype": "text/x-python",
   "name": "python",
   "nbconvert_exporter": "python",
   "pygments_lexer": "ipython2",
   "version": "2.7.16"
  }
 },
 "nbformat": 4,
 "nbformat_minor": 2
}
