{
 "cells": [
  {
   "cell_type": "markdown",
   "metadata": {},
   "source": [
    "====>> this is notebook\n",
    "\n",
    "===>> this is my 1st notebook file"
   ]
  },
  {
   "cell_type": "code",
   "execution_count": 1,
   "metadata": {},
   "outputs": [
    {
     "name": "stdout",
     "output_type": "stream",
     "text": [
      "python\n",
      "<type 'str'>\n",
      "38446944\n"
     ]
    }
   ],
   "source": [
    "var = 'python'\n",
    "print var\n",
    "print type(var)\n",
    "print id(var)"
   ]
  },
  {
   "cell_type": "code",
   "execution_count": 2,
   "metadata": {},
   "outputs": [
    {
     "name": "stdout",
     "output_type": "stream",
     "text": [
      "python\n",
      "<type 'str'>\n",
      "38446944\n"
     ]
    }
   ],
   "source": [
    "var = \"python\"\n",
    "print var\n",
    "print type(var)\n",
    "print id(var)"
   ]
  },
  {
   "cell_type": "code",
   "execution_count": 3,
   "metadata": {},
   "outputs": [
    {
     "name": "stdout",
     "output_type": "stream",
     "text": [
      "python\n",
      "<type 'str'>\n",
      "38446944\n"
     ]
    }
   ],
   "source": [
    "var = '''python'''\n",
    "print var\n",
    "print type(var)\n",
    "print id(var)"
   ]
  },
  {
   "cell_type": "code",
   "execution_count": 5,
   "metadata": {},
   "outputs": [
    {
     "name": "stdout",
     "output_type": "stream",
     "text": [
      "python\n",
      "<type 'str'>\n",
      "38446944\n"
     ]
    }
   ],
   "source": [
    "var = \"\"\"python\"\"\"\n",
    "print var\n",
    "print type(var)\n",
    "print id(var)"
   ]
  },
  {
   "cell_type": "code",
   "execution_count": 6,
   "metadata": {},
   "outputs": [
    {
     "name": "stdout",
     "output_type": "stream",
     "text": [
      "p\n",
      "y\n",
      "t\n",
      "h\n",
      "o\n",
      "n\n"
     ]
    }
   ],
   "source": [
    "# positive indexing\n",
    "var = \"python\"\n",
    "print var[0]  # p\n",
    "print var[1]  # y\n",
    "print var[2]  # t\n",
    "print var[3]  # h\n",
    "print var[4]  # o\n",
    "print var[5]  # n"
   ]
  },
  {
   "cell_type": "code",
   "execution_count": 8,
   "metadata": {},
   "outputs": [
    {
     "name": "stdout",
     "output_type": "stream",
     "text": [
      "n\n",
      "o\n",
      "h\n",
      "t\n",
      "y\n",
      "p\n"
     ]
    }
   ],
   "source": [
    "# Negative  indexing\n",
    "var = \"python\"\n",
    "print var[-1]  # n\n",
    "print var[-2]  # o\n",
    "print var[-3]  # h\n",
    "print var[-4]  # t\n",
    "print var[-5]  # y\n",
    "print var[-6]  # p"
   ]
  },
  {
   "cell_type": "code",
   "execution_count": 10,
   "metadata": {},
   "outputs": [
    {
     "ename": "TypeError",
     "evalue": "'str' object does not support item assignment",
     "output_type": "error",
     "traceback": [
      "\u001b[1;31m\u001b[0m",
      "\u001b[1;31mTypeError\u001b[0mTraceback (most recent call last)",
      "\u001b[1;32m<ipython-input-10-1966dfbefe59>\u001b[0m in \u001b[0;36m<module>\u001b[1;34m()\u001b[0m\n\u001b[0;32m      5\u001b[0m '''\n\u001b[0;32m      6\u001b[0m \u001b[0mvar\u001b[0m \u001b[1;33m=\u001b[0m \u001b[1;34m\"python\"\u001b[0m\u001b[1;33m\u001b[0m\u001b[0m\n\u001b[1;32m----> 7\u001b[1;33m \u001b[0mvar\u001b[0m\u001b[1;33m[\u001b[0m\u001b[1;36m2\u001b[0m\u001b[1;33m]\u001b[0m\u001b[1;33m=\u001b[0m\u001b[1;34m'T'\u001b[0m\u001b[1;33m\u001b[0m\u001b[0m\n\u001b[0m",
      "\u001b[1;31mTypeError\u001b[0m: 'str' object does not support item assignment"
     ]
    }
   ],
   "source": [
    "# str is a immutable\n",
    "'''\n",
    "===>> we can't able to modify the existing character from str\n",
    "\n",
    "'''\n",
    "var = \"python\"\n",
    "var[2]='T'\n"
   ]
  },
  {
   "cell_type": "code",
   "execution_count": 13,
   "metadata": {},
   "outputs": [
    {
     "name": "stdout",
     "output_type": "stream",
     "text": [
      "gram\n",
      "python program\n",
      "gramming Language\n"
     ]
    }
   ],
   "source": [
    "# str slicing  \n",
    "'''\n",
    "===>>>  We can access the group of character continuosly \n",
    "\n",
    "str_var[ start  :  stop ]\n",
    "\n",
    "start ===>>> 0\n",
    "\n",
    "stop ====>>> len of str\n",
    "'''\n",
    "var = \"python programming Language\"\n",
    "print var[10:14]\n",
    "print var[:14]\n",
    "print var[10:]\n"
   ]
  },
  {
   "cell_type": "code",
   "execution_count": 16,
   "metadata": {},
   "outputs": [
    {
     "name": "stdout",
     "output_type": "stream",
     "text": [
      "gamn \n",
      "ph oai \n",
      "gm ge\n",
      "gramming l\n"
     ]
    }
   ],
   "source": [
    "# str dicing \n",
    "'''\n",
    "====>> we can access the group of characters from str step wise/ periodically \n",
    "\n",
    "str_var [ start  :  stop   : step]\n",
    "\n",
    "start ===>> 0\n",
    "\n",
    "stop  ===>> len of str\n",
    "\n",
    "step  ===>>  1\n",
    "\n",
    "'''\n",
    "var = \"python programming language\"\n",
    "print var[10 :  20  :2 ] #'gamn '\n",
    "print var[: 20:3]\n",
    "print var[10: : 4]\n",
    "print var[10:20:]"
   ]
  },
  {
   "cell_type": "code",
   "execution_count": 18,
   "metadata": {},
   "outputs": [
    {
     "name": "stdout",
     "output_type": "stream",
     "text": [
      "['__add__', '__class__', '__contains__', '__delattr__', '__doc__', '__eq__', '__format__', '__ge__', '__getattribute__', '__getitem__', '__getnewargs__', '__getslice__', '__gt__', '__hash__', '__init__', '__le__', '__len__', '__lt__', '__mod__', '__mul__', '__ne__', '__new__', '__reduce__', '__reduce_ex__', '__repr__', '__rmod__', '__rmul__', '__setattr__', '__sizeof__', '__str__', '__subclasshook__', '_formatter_field_name_split', '_formatter_parser', 'capitalize', 'center', 'count', 'decode', 'encode', 'endswith', 'expandtabs', 'find', 'format', 'index', 'isalnum', 'isalpha', 'isdigit', 'islower', 'isspace', 'istitle', 'isupper', 'join', 'ljust', 'lower', 'lstrip', 'partition', 'replace', 'rfind', 'rindex', 'rjust', 'rpartition', 'rsplit', 'rstrip', 'split', 'splitlines', 'startswith', 'strip', 'swapcase', 'title', 'translate', 'upper', 'zfill']\n"
     ]
    }
   ],
   "source": [
    "print dir(str)"
   ]
  },
  {
   "cell_type": "code",
   "execution_count": 22,
   "metadata": {},
   "outputs": [
    {
     "name": "stdout",
     "output_type": "stream",
     "text": [
      "hello  hai\n",
      "hello  hai\n",
      "True\n",
      "True\n",
      "False\n",
      "False\n",
      "True\n",
      "True\n",
      "False\n",
      "False\n"
     ]
    }
   ],
   "source": [
    "a = \"hello  \"\n",
    "b = \"hai\"\n",
    "print a+b\n",
    "print a.__add__(b)\n",
    "print 'l'in a\n",
    "print a.__contains__('l')\n",
    "print  a == b\n",
    "print a.__eq__(b)\n",
    "\n",
    "print a >= b\n",
    "print a.__ge__(b)\n",
    "print a <= b\n",
    "print a.__le__(b)"
   ]
  },
  {
   "cell_type": "code",
   "execution_count": 26,
   "metadata": {},
   "outputs": [
    {
     "name": "stdout",
     "output_type": "stream",
     "text": [
      "Help on method_descriptor:\n",
      "\n",
      "capitalize(...)\n",
      "    S.capitalize() -> string\n",
      "    \n",
      "    Return a copy of the string S with only its first character\n",
      "    capitalized.\n",
      "\n"
     ]
    }
   ],
   "source": [
    "#capitalize\n",
    "help(str.capitalize)"
   ]
  },
  {
   "cell_type": "code",
   "execution_count": 28,
   "metadata": {},
   "outputs": [
    {
     "name": "stdout",
     "output_type": "stream",
     "text": [
      "Jkfjjjfdhj jkjkhfj jjhgh\n"
     ]
    }
   ],
   "source": [
    "var = \"jkfjjJFDHJ jkjkhfj JJHGH\"\n",
    "print var.capitalize()"
   ]
  },
  {
   "cell_type": "code",
   "execution_count": 30,
   "metadata": {},
   "outputs": [
    {
     "name": "stdout",
     "output_type": "stream",
     "text": [
      "Help on method_descriptor:\n",
      "\n",
      "title(...)\n",
      "    S.title() -> string\n",
      "    \n",
      "    Return a titlecased version of S, i.e. words start with uppercase\n",
      "    characters, all remaining cased characters have lowercase.\n",
      "\n"
     ]
    }
   ],
   "source": [
    "help(str.title)"
   ]
  },
  {
   "cell_type": "code",
   "execution_count": 32,
   "metadata": {},
   "outputs": [
    {
     "name": "stdout",
     "output_type": "stream",
     "text": [
      "Rkjkbj Jkjkb Jfdhgj Jkhkj\n"
     ]
    }
   ],
   "source": [
    "var = \"rkjkbj JKJKB JFDHGJ jkhkj\"\n",
    "print var.title()"
   ]
  },
  {
   "cell_type": "code",
   "execution_count": 34,
   "metadata": {},
   "outputs": [
    {
     "name": "stdout",
     "output_type": "stream",
     "text": [
      "fjhhfjkhjkjf12323\n"
     ]
    }
   ],
   "source": [
    "var = \"fjhhfJKHJKJF12323\"\n",
    "print var.lower()"
   ]
  },
  {
   "cell_type": "code",
   "execution_count": 37,
   "metadata": {},
   "outputs": [
    {
     "name": "stdout",
     "output_type": "stream",
     "text": [
      "FJHHFJKHJKJF12323\n"
     ]
    }
   ],
   "source": [
    "var = \"fjhhfJKHJKJF12323\"\n",
    "print var.upper()"
   ]
  },
  {
   "cell_type": "code",
   "execution_count": 38,
   "metadata": {},
   "outputs": [
    {
     "name": "stdout",
     "output_type": "stream",
     "text": [
      "Help on method_descriptor:\n",
      "\n",
      "zfill(...)\n",
      "    S.zfill(width) -> string\n",
      "    \n",
      "    Pad a numeric string S with zeros on the left, to fill a field\n",
      "    of the specified width.  The string S is never truncated.\n",
      "\n"
     ]
    }
   ],
   "source": [
    "help(str.zfill)"
   ]
  },
  {
   "cell_type": "code",
   "execution_count": 40,
   "metadata": {},
   "outputs": [
    {
     "name": "stdout",
     "output_type": "stream",
     "text": [
      "0000python\n"
     ]
    }
   ],
   "source": [
    "var = \"python\"\n",
    "print var.zfill(10)"
   ]
  },
  {
   "cell_type": "code",
   "execution_count": 42,
   "metadata": {},
   "outputs": [
    {
     "name": "stdout",
     "output_type": "stream",
     "text": [
      "Help on method_descriptor:\n",
      "\n",
      "center(...)\n",
      "    S.center(width[, fillchar]) -> string\n",
      "    \n",
      "    Return S centered in a string of length width. Padding is\n",
      "    done using the specified fill character (default is a space)\n",
      "\n"
     ]
    }
   ],
   "source": [
    "help(str.center)"
   ]
  },
  {
   "cell_type": "code",
   "execution_count": 44,
   "metadata": {},
   "outputs": [
    {
     "name": "stdout",
     "output_type": "stream",
     "text": [
      "77python77\n"
     ]
    }
   ],
   "source": [
    "var = \"python\"\n",
    "print var.center(10,'7')"
   ]
  },
  {
   "cell_type": "code",
   "execution_count": 46,
   "metadata": {},
   "outputs": [
    {
     "name": "stdout",
     "output_type": "stream",
     "text": [
      "Help on method_descriptor:\n",
      "\n",
      "replace(...)\n",
      "    S.replace(old, new[, count]) -> string\n",
      "    \n",
      "    Return a copy of string S with all occurrences of substring\n",
      "    old replaced by new.  If the optional argument count is\n",
      "    given, only the first count occurrences are replaced.\n",
      "\n"
     ]
    }
   ],
   "source": [
    "help(str.replace)"
   ]
  },
  {
   "cell_type": "code",
   "execution_count": 48,
   "metadata": {},
   "outputs": [
    {
     "name": "stdout",
     "output_type": "stream",
     "text": [
      "pyThon\n"
     ]
    }
   ],
   "source": [
    "var =\"python\"\n",
    "print var.replace('t',\"T\")"
   ]
  },
  {
   "cell_type": "code",
   "execution_count": 50,
   "metadata": {},
   "outputs": [
    {
     "name": "stdout",
     "output_type": "stream",
     "text": [
      "['jfj', 'jfjf', 'jkfkj', 'jkhfj', 'jhjf', 'jhfjf', '']\n"
     ]
    }
   ],
   "source": [
    "var = \"jfj jfjf jkfkj jkhfj jhjf jhfjf \"\n",
    "print var.split(\" \")"
   ]
  },
  {
   "cell_type": "code",
   "execution_count": 52,
   "metadata": {},
   "outputs": [
    {
     "name": "stdout",
     "output_type": "stream",
     "text": [
      "jfj  jfjf  jkfkj  jkhfj  jhjf  jhfjf\n"
     ]
    }
   ],
   "source": [
    "var = ['jfj', 'jfjf', 'jkfkj', 'jkhfj', 'jhjf', 'jhfjf']\n",
    "print \"  \".join(var)"
   ]
  },
  {
   "cell_type": "code",
   "execution_count": 54,
   "metadata": {},
   "outputs": [
    {
     "name": "stdout",
     "output_type": "stream",
     "text": [
      "2\n"
     ]
    }
   ],
   "source": [
    "var = \"python program\"\n",
    "print var.count('o')"
   ]
  },
  {
   "cell_type": "code",
   "execution_count": 56,
   "metadata": {},
   "outputs": [
    {
     "name": "stdout",
     "output_type": "stream",
     "text": [
      "6\n"
     ]
    }
   ],
   "source": [
    "var = \"python program\"\n",
    "print var.index(' ')"
   ]
  },
  {
   "cell_type": "code",
   "execution_count": 59,
   "metadata": {},
   "outputs": [
    {
     "name": "stdout",
     "output_type": "stream",
     "text": [
      "False\n",
      "True\n"
     ]
    }
   ],
   "source": [
    "var =\"pytho123Fn\"\n",
    "print var.islower()\n",
    "var =\"pytho123fn\"\n",
    "print var.islower()"
   ]
  },
  {
   "cell_type": "code",
   "execution_count": 60,
   "metadata": {},
   "outputs": [
    {
     "name": "stdout",
     "output_type": "stream",
     "text": [
      "False\n",
      "True\n"
     ]
    }
   ],
   "source": [
    "var =\"JGJGHHVj8475\"\n",
    "print var.isupper()\n",
    "var =\"KJHFJKFDHJKGHJG\"\n",
    "print var.isupper()"
   ]
  },
  {
   "cell_type": "code",
   "execution_count": 61,
   "metadata": {},
   "outputs": [
    {
     "name": "stdout",
     "output_type": "stream",
     "text": [
      "False\n",
      "True\n"
     ]
    }
   ],
   "source": [
    "var =\"12345355DD\"\n",
    "print var.isdigit()\n",
    "var =\"34543532343\"\n",
    "print var.isdigit()"
   ]
  },
  {
   "cell_type": "code",
   "execution_count": 63,
   "metadata": {},
   "outputs": [
    {
     "name": "stdout",
     "output_type": "stream",
     "text": [
      "False\n",
      "True\n"
     ]
    }
   ],
   "source": [
    "var =\"pytho123Fn*&%^%\"\n",
    "print var.isalnum()\n",
    "var =\"pythEERUo123fn\"\n",
    "print var.isalnum()"
   ]
  },
  {
   "cell_type": "code",
   "execution_count": 64,
   "metadata": {},
   "outputs": [
    {
     "name": "stdout",
     "output_type": "stream",
     "text": [
      "False\n",
      "True\n"
     ]
    }
   ],
   "source": [
    "var =\"python12434\"\n",
    "print var.isalpha()\n",
    "var =\"pythEERUofn\"\n",
    "print var.isalnum()"
   ]
  },
  {
   "cell_type": "code",
   "execution_count": 65,
   "metadata": {},
   "outputs": [
    {
     "name": "stdout",
     "output_type": "stream",
     "text": [
      "False\n",
      "True\n"
     ]
    }
   ],
   "source": [
    "var =\"Tjdfjb FUJFHJ fdhdgjf\"\n",
    "print var.istitle()\n",
    "var =\"Pjffbj Kfjfjg Jjkfkfj\"\n",
    "print var.istitle()"
   ]
  },
  {
   "cell_type": "code",
   "execution_count": 66,
   "metadata": {},
   "outputs": [
    {
     "name": "stdout",
     "output_type": "stream",
     "text": [
      "['__add__', '__class__', '__contains__', '__delattr__', '__doc__', '__eq__', '__format__', '__ge__', '__getattribute__', '__getitem__', '__getnewargs__', '__getslice__', '__gt__', '__hash__', '__init__', '__le__', '__len__', '__lt__', '__mod__', '__mul__', '__ne__', '__new__', '__reduce__', '__reduce_ex__', '__repr__', '__rmod__', '__rmul__', '__setattr__', '__sizeof__', '__str__', '__subclasshook__', '_formatter_field_name_split', '_formatter_parser', 'capitalize', 'center', 'count', 'decode', 'encode', 'endswith', 'expandtabs', 'find', 'format', 'index', 'isalnum', 'isalpha', 'isdigit', 'islower', 'isspace', 'istitle', 'isupper', 'join', 'ljust', 'lower', 'lstrip', 'partition', 'replace', 'rfind', 'rindex', 'rjust', 'rpartition', 'rsplit', 'rstrip', 'split', 'splitlines', 'startswith', 'strip', 'swapcase', 'title', 'translate', 'upper', 'zfill']\n"
     ]
    }
   ],
   "source": [
    "print dir(str)"
   ]
  },
  {
   "cell_type": "code",
   "execution_count": 68,
   "metadata": {},
   "outputs": [
    {
     "name": "stdout",
     "output_type": "stream",
     "text": [
      "2\n",
      "2\n",
      "-1\n"
     ]
    },
    {
     "ename": "ValueError",
     "evalue": "substring not found",
     "output_type": "error",
     "traceback": [
      "\u001b[1;31m\u001b[0m",
      "\u001b[1;31mValueError\u001b[0mTraceback (most recent call last)",
      "\u001b[1;32m<ipython-input-68-0e5a04263f84>\u001b[0m in \u001b[0;36m<module>\u001b[1;34m()\u001b[0m\n\u001b[0;32m      3\u001b[0m \u001b[1;32mprint\u001b[0m \u001b[0mvar\u001b[0m\u001b[1;33m.\u001b[0m\u001b[0mindex\u001b[0m\u001b[1;33m(\u001b[0m\u001b[1;34m't'\u001b[0m\u001b[1;33m)\u001b[0m\u001b[1;33m\u001b[0m\u001b[0m\n\u001b[0;32m      4\u001b[0m \u001b[1;32mprint\u001b[0m \u001b[0mvar\u001b[0m\u001b[1;33m.\u001b[0m\u001b[0mfind\u001b[0m\u001b[1;33m(\u001b[0m\u001b[1;34m'Z'\u001b[0m\u001b[1;33m)\u001b[0m\u001b[1;33m\u001b[0m\u001b[0m\n\u001b[1;32m----> 5\u001b[1;33m \u001b[1;32mprint\u001b[0m \u001b[0mvar\u001b[0m\u001b[1;33m.\u001b[0m\u001b[0mindex\u001b[0m\u001b[1;33m(\u001b[0m\u001b[1;34m'Z'\u001b[0m\u001b[1;33m)\u001b[0m\u001b[1;33m\u001b[0m\u001b[0m\n\u001b[0m",
      "\u001b[1;31mValueError\u001b[0m: substring not found"
     ]
    }
   ],
   "source": [
    "var =\"python\"\n",
    "print var.find('t')\n",
    "print var.index('t')\n",
    "print var.find('Z')\n",
    "print var.index('Z')"
   ]
  },
  {
   "cell_type": "code",
   "execution_count": 69,
   "metadata": {},
   "outputs": [
    {
     "name": "stdout",
     "output_type": "stream",
     "text": [
      "12\n",
      "j\n",
      "b\n"
     ]
    }
   ],
   "source": [
    "var = \"jfjhbfhhffjf\"\n",
    "print len(var)\n",
    "print max(var)\n",
    "print min(var)"
   ]
  },
  {
   "cell_type": "code",
   "execution_count": 74,
   "metadata": {},
   "outputs": [
    {
     "name": "stdout",
     "output_type": "stream",
     "text": [
      "65\n",
      "66\n",
      "90\n",
      "97\n",
      "[\n",
      "\\\n"
     ]
    }
   ],
   "source": [
    "print ord('A') # 65\n",
    "print ord('B') # 66\n",
    "print ord('Z') #90\n",
    "print ord('a')# 97\n",
    "print chr(91)\n",
    "print chr(92)"
   ]
  },
  {
   "cell_type": "code",
   "execution_count": null,
   "metadata": {},
   "outputs": [],
   "source": []
  },
  {
   "cell_type": "code",
   "execution_count": null,
   "metadata": {},
   "outputs": [],
   "source": []
  }
 ],
 "metadata": {
  "kernelspec": {
   "display_name": "Python 2",
   "language": "python",
   "name": "python2"
  },
  "language_info": {
   "codemirror_mode": {
    "name": "ipython",
    "version": 2
   },
   "file_extension": ".py",
   "mimetype": "text/x-python",
   "name": "python",
   "nbconvert_exporter": "python",
   "pygments_lexer": "ipython2",
   "version": "2.7.16"
  }
 },
 "nbformat": 4,
 "nbformat_minor": 2
}
