{
 "cells": [
  {
   "cell_type": "markdown",
   "metadata": {},
   "source": [
    "# control statement\n",
    "\n",
    "# statement :-\n",
    "\n",
    "===>>> An instruction which can be executable\n",
    "\n",
    "# program :-\n",
    "\n",
    "===>>> Collection of statements to do any one specific task\n",
    "\n",
    "# Flow of execution  of the program\n",
    "\n",
    "===>> Statement by statement\n",
    "\n",
    "\n",
    "# control statement\n",
    "\n",
    "===>>> we can change the flow of execution of the program\n",
    "\n",
    "# Types\n",
    "\n",
    "    1.  conditional statement\n",
    "    \n",
    "    2.  Looping statement\n",
    "    \n",
    "    3.  control keywords\n",
    "    \n",
    "# conditional statement\n",
    "\n",
    "====>>> The statements execution can depeneds on condition\n",
    "\n",
    "====>>> There are 4 types of conditional statements\n",
    "\n",
    "1. Simple if \n",
    "\n",
    "2. if - else\n",
    "\n",
    "3. Nested if \n",
    "\n",
    "4. elif ladder\n",
    "\n",
    "# Simple if \n",
    "\n",
    "=====>>> The Task can executes when the condtion is True\n",
    "\n",
    "# syntax\n",
    "\n",
    "start\n",
    "\n",
    "=====\n",
    "\n",
    "if( Condition ) :\n",
    "\n",
    "    Task\n",
    "    \n",
    "    -----\n",
    "    \n",
    "    -----\n",
    "    \n",
    "stop\n",
    "\n",
    "====\n",
    "\n",
    "\n",
    "\n",
    "\n",
    "\n",
    "\n",
    "\n",
    "\n",
    "\n",
    "\n",
    "\n",
    "\n",
    "\n",
    "\n",
    "\n"
   ]
  },
  {
   "cell_type": "code",
   "execution_count": null,
   "metadata": {},
   "outputs": [],
   "source": [
    "# wap apply the voter id application ( age >= 18)\n",
    "age = input(\"enter age of : \")\n",
    "if ( age >= 18):\n",
    "    print \"Your eligible for Voter id application\"\n",
    "    name = input(\"enter name : \")\n",
    "    DOB  = input(\"enter DOB : \")\n",
    "    mail = input(\"enter mail : \")\n",
    "print \"Thanks for visiting the voter id center\""
   ]
  },
  {
   "cell_type": "code",
   "execution_count": null,
   "metadata": {},
   "outputs": [],
   "source": [
    "# wap find the area of circle when radius  is float \n",
    "rad = input(\"enter rad of circle : \")\n",
    "if ( isinstance(rad,float)):\n",
    "    area = (22.0/7 ) * (rad**2)\n",
    "    print \"area : \",area\n",
    "print \"Task over\""
   ]
  },
  {
   "cell_type": "code",
   "execution_count": null,
   "metadata": {},
   "outputs": [],
   "source": [
    "help(isinstance)"
   ]
  },
  {
   "cell_type": "code",
   "execution_count": null,
   "metadata": {},
   "outputs": [],
   "source": [
    "# wap find the area of square when side is even other wise find the perimeter\n",
    "side = input(\"enter side of square : \")\n",
    "if(side % 2 == 0):\n",
    "    area =side ** 2\n",
    "    print \"area : \",area\n",
    "else:\n",
    "    peri = 4 * side\n",
    "    print \"peri : \",peri\n",
    "print \"Task Over \""
   ]
  },
  {
   "cell_type": "code",
   "execution_count": null,
   "metadata": {},
   "outputs": [],
   "source": [
    "# wap print the biggest number in between 2 number "
   ]
  },
  {
   "cell_type": "code",
   "execution_count": null,
   "metadata": {},
   "outputs": [],
   "source": [
    "# wap find salary based on experience \n",
    "exp = input(\"enter exp in years : \")\n",
    "if( exp > 0  and exp <= 2):\n",
    "    print \"salary : 2.4 lac PA\"\n",
    "elif( exp > 2  and exp <= 4):\n",
    "    print \"salary : 4.8 lac PA\"\n",
    "elif( exp > 4 and exp <= 6):\n",
    "    print \"salary : 9.6 lac PA\"\n",
    "elif( exp > 6  and exp <= 10):\n",
    "    print \"salary : 12 lac PA\"\n",
    "elif( exp > 10  and exp <= 12):\n",
    "    print \"salary : 20 lac PA\"\n",
    "elif( exp > 12):\n",
    "    print \"salary :35 lac PA\"\n",
    "else:\n",
    "    print \"Enter proper exp\""
   ]
  },
  {
   "cell_type": "code",
   "execution_count": null,
   "metadata": {},
   "outputs": [],
   "source": [
    "# wap for grading system based student percentage "
   ]
  },
  {
   "cell_type": "code",
   "execution_count": null,
   "metadata": {},
   "outputs": [],
   "source": [
    "# nested if\n",
    "'''\n",
    "===>> one if block can contains another if block\n",
    "\n",
    "'''\n",
    "# wap find the smallest number from  3 number\n",
    "\n",
    "a = input(\"enter a : \")\n",
    "b = input(\"enter b : \")\n",
    "c = input(\"enter c : \")\n",
    "if ( a < b):\n",
    "    if(a <c):\n",
    "        print \"small : \",a\n",
    "    else:\n",
    "        print \"small: \",c\n",
    "else:\n",
    "    if(b < c):\n",
    "        print \"small\",b\n",
    "    else:\n",
    "        print \"small\",c"
   ]
  },
  {
   "cell_type": "code",
   "execution_count": null,
   "metadata": {},
   "outputs": [],
   "source": [
    "# wap find given year is leap year or not\n"
   ]
  },
  {
   "cell_type": "code",
   "execution_count": null,
   "metadata": {},
   "outputs": [],
   "source": [
    "# LOOPs\n",
    "'''\n",
    "===>>> Task--->> can repeate multiple times continously\n",
    "\n",
    "'''\n",
    "# print hello 10 times \n",
    "print \"hello\"\n",
    "print \"hello\"\n",
    "print \"hello\"\n",
    "print \"hello\"\n",
    "print \"hello\"\n",
    "print \"hello\"\n",
    "print \"hello\"\n",
    "print \"hello\"\n",
    "print \"hello\"\n",
    "print \"hello\""
   ]
  },
  {
   "cell_type": "code",
   "execution_count": null,
   "metadata": {},
   "outputs": [],
   "source": [
    "#types\n",
    "'''\n",
    "while ===>>> condition , \n",
    "\n",
    "for   ====>>>condition is not required \n",
    "'''\n",
    "# wap print hello 10 times \n",
    "N = input(\"enter no of times : \")\n",
    "i = 1\n",
    "while(i <= N):\n",
    "    print \"hello\"\n",
    "    i += 1\n",
    "else:\n",
    "    print \"while condition fails \"\n",
    "print \"Task Over\""
   ]
  },
  {
   "cell_type": "code",
   "execution_count": null,
   "metadata": {},
   "outputs": [],
   "source": []
  },
  {
   "cell_type": "code",
   "execution_count": null,
   "metadata": {},
   "outputs": [],
   "source": [
    "range(10)"
   ]
  },
  {
   "cell_type": "code",
   "execution_count": null,
   "metadata": {},
   "outputs": [],
   "source": [
    "range(20,31)"
   ]
  },
  {
   "cell_type": "code",
   "execution_count": null,
   "metadata": {},
   "outputs": [],
   "source": [
    "range(10,40,7)"
   ]
  },
  {
   "cell_type": "code",
   "execution_count": null,
   "metadata": {},
   "outputs": [],
   "source": [
    "# wap print hello 10 times\n",
    "N= input(\"enter no of times : \")\n",
    "for var in range(N):\n",
    "    print \"Hello\"\n",
    "else:\n",
    "    print \"No more updatation\"\n",
    "print \"Task Over\""
   ]
  },
  {
   "cell_type": "code",
   "execution_count": 1,
   "metadata": {},
   "outputs": [
    {
     "name": "stdout",
     "output_type": "stream",
     "text": [
      "enter the start number : 10\n",
      "enter the stop number : 40\n",
      "10  is even \n",
      "12  is even \n",
      "14  is even \n",
      "16  is even \n",
      "18  is even \n",
      "20  is even \n",
      "22  is even \n",
      "24  is even \n",
      "26  is even \n",
      "28  is even \n",
      "30  is even \n",
      "32  is even \n",
      "34  is even \n",
      "36  is even \n",
      "38  is even \n",
      "40  is even \n",
      "condition failed\n",
      "Task over\n"
     ]
    }
   ],
   "source": [
    "#range( start ,  stop,step )\n",
    "# start ==>> 0\n",
    "# step ===>> 1\n",
    "\n",
    "# wap generate the even numbers in between 10 to 40 #while\n",
    "start = input(\"enter the start number : \")\n",
    "stop = input(\"enter the stop number : \")\n",
    "i = start\n",
    "while(i <= stop):\n",
    "    if(i % 2 == 0):\n",
    "        print i,\" is even \"\n",
    "    i = i+1\n",
    "else:\n",
    "    print\"condition failed\"\n",
    "print \"Task over\"\n",
    "    \n"
   ]
  },
  {
   "cell_type": "code",
   "execution_count": 2,
   "metadata": {},
   "outputs": [],
   "source": [
    "# wap generate the even numbers in between 10 to 40 #for"
   ]
  },
  {
   "cell_type": "code",
   "execution_count": 3,
   "metadata": {},
   "outputs": [
    {
     "name": "stdout",
     "output_type": "stream",
     "text": [
      "enter N of times : 5\n",
      "0     1     1     2     3     \n",
      " No more uopdates : \n",
      "For looop is over\n"
     ]
    }
   ],
   "source": [
    "# wap generate the  1st 10 fibonic series  elements # for\n",
    "# 0  1   1   2   3   5   8   13    21   34\n",
    "N = input(\"enter N of times : \")\n",
    "a = 0\n",
    "b = 1\n",
    "for var in range(N):\n",
    "    print a, \"   \",\n",
    "    c = a + b\n",
    "    a = b\n",
    "    b = c\n",
    "else:\n",
    "    print \"\\n No more uopdates : \"\n",
    "print \"For looop is over\""
   ]
  },
  {
   "cell_type": "code",
   "execution_count": null,
   "metadata": {},
   "outputs": [],
   "source": [
    "# wap generate the  1st 10 fibonic series  elements # while"
   ]
  },
  {
   "cell_type": "code",
   "execution_count": 1,
   "metadata": {},
   "outputs": [
    {
     "name": "stdout",
     "output_type": "stream",
     "text": [
      "enter factorial of number :5\n",
      "5  factorial is  120\n"
     ]
    }
   ],
   "source": [
    "#wap find the factorial of a number using while\n",
    "# 5 ===>> 1* 2*3*4*5 ===>> 120\n",
    "N =input(\"enter factorial of number :\")\n",
    "var =1\n",
    "fact = 1\n",
    "while(var <= N):\n",
    "    fact = fact*var\n",
    "    var = var+1\n",
    "else:\n",
    "    print N,\" factorial is \",fact"
   ]
  },
  {
   "cell_type": "code",
   "execution_count": null,
   "metadata": {},
   "outputs": [],
   "source": [
    "#wap find the factorial of a number using while # for"
   ]
  },
  {
   "cell_type": "code",
   "execution_count": 15,
   "metadata": {},
   "outputs": [
    {
     "name": "stdout",
     "output_type": "stream",
     "text": [
      "enter no of col : 4\n",
      "enter no of row :5\n",
      "*   *   *   *  \n",
      "*   *   *   *  \n",
      "*   *   *   *  \n",
      "*   *   *   *  \n",
      "*   *   *   *  \n"
     ]
    }
   ],
   "source": [
    "#nested loops \n",
    "'''\n",
    "===>> one loop is contains another loop\n",
    "'''\n",
    "'''\n",
    "*  *  *  *\n",
    "*  *  *  *\n",
    "*  *  *  *\n",
    "*  *  *  *\n",
    "*  *  *  *\n",
    "'''\n",
    "col = input(\"enter no of col : \")\n",
    "row = input(\"enter no of row :\")#5\n",
    "for r in range(row):\n",
    "    for c in range(col):\n",
    "        print \"*  \",\n",
    "    print \n"
   ]
  },
  {
   "cell_type": "code",
   "execution_count": 16,
   "metadata": {},
   "outputs": [
    {
     "name": "stdout",
     "output_type": "stream",
     "text": [
      "enter no of row : 5\n",
      "*  \n",
      "*   *  \n",
      "*   *   *  \n",
      "*   *   *   *  \n",
      "*   *   *   *   *  \n"
     ]
    }
   ],
   "source": [
    "'''\n",
    "*\n",
    "*  *\n",
    "*  *  *\n",
    "*  *  *  *\n",
    "*  *  *  *  *\n",
    "'''\n",
    "row = input(\"enter no of row : \")\n",
    "for r in range(1,row+1):\n",
    "    for c in range(r):\n",
    "        print \"*  \",\n",
    "    print\n",
    "    "
   ]
  },
  {
   "cell_type": "code",
   "execution_count": 18,
   "metadata": {},
   "outputs": [
    {
     "name": "stdout",
     "output_type": "stream",
     "text": [
      "enter no of row : 5\n",
      "*  \n",
      "*   *  \n",
      "*   *   *  \n",
      "*   *   *   *  \n",
      "*   *   *   *   *  \n"
     ]
    }
   ],
   "source": [
    "row = input(\"enter no of row : \")\n",
    "r = 1\n",
    "while(r <= row):\n",
    "    for c in range(r):\n",
    "        print \"*  \",\n",
    "    r = r+1\n",
    "    print\n",
    "    "
   ]
  },
  {
   "cell_type": "code",
   "execution_count": 20,
   "metadata": {},
   "outputs": [
    {
     "name": "stdout",
     "output_type": "stream",
     "text": [
      "enter no of row : 5\n",
      "*  \n",
      "*   *  \n",
      "*   *   *  \n",
      "*   *   *   *  \n",
      "*   *   *   *   *  \n"
     ]
    }
   ],
   "source": [
    "row = input(\"enter no of row : \")\n",
    "r = 1\n",
    "while(r <= row):\n",
    "    c =1\n",
    "    while(c <= r):\n",
    "        print \"*  \",\n",
    "        c= c+1\n",
    "    r = r+1\n",
    "    print\n",
    "    "
   ]
  },
  {
   "cell_type": "code",
   "execution_count": 28,
   "metadata": {},
   "outputs": [
    {
     "name": "stdout",
     "output_type": "stream",
     "text": [
      "1\n",
      "2\n",
      "3\n",
      "4\n",
      "6\n",
      "7\n",
      "8\n",
      "9\n",
      "10\n"
     ]
    }
   ],
   "source": [
    "# control keywords\n",
    "\n",
    "'''\n",
    "1. pass ====>> empty block\n",
    "'''\n",
    "if (True ):\n",
    "    pass\n",
    "for i in range(10):\n",
    "    pass\n",
    "'''\n",
    "continue ===>>> skip the present iteraton and continue the next iteration\n",
    "'''\n",
    "# wap print 1  to 10 but while printing 5 skip it\n",
    "i = 0\n",
    "while(i < 10):\n",
    "    i =i +1\n",
    "    if( i == 5):\n",
    "        continue \n",
    "    print i\n",
    "    "
   ]
  },
  {
   "cell_type": "code",
   "execution_count": 30,
   "metadata": {},
   "outputs": [
    {
     "name": "stdout",
     "output_type": "stream",
     "text": [
      "1\n",
      "2\n",
      "3\n",
      "4\n"
     ]
    }
   ],
   "source": [
    "# break ===>>> to terminate the loops \n",
    "# wap print 1  to 10 but while printing 5 terminate the loop\n",
    "i = 0\n",
    "while(i < 10):\n",
    "    i =i +1\n",
    "    if( i == 5):\n",
    "        break\n",
    "    print i"
   ]
  },
  {
   "cell_type": "code",
   "execution_count": 31,
   "metadata": {},
   "outputs": [],
   "source": [
    "# wap find the no of digits in a number\n",
    "#7845 ====>>>4\n"
   ]
  },
  {
   "cell_type": "code",
   "execution_count": 32,
   "metadata": {},
   "outputs": [],
   "source": [
    "#wap find the sum of digits in a number \n",
    "# 3452 ==>>3+4+5+2 ===>>14"
   ]
  },
  {
   "cell_type": "code",
   "execution_count": 33,
   "metadata": {},
   "outputs": [],
   "source": [
    "# wap reverse of a number \n",
    "# 789 ====>>> 987"
   ]
  },
  {
   "cell_type": "code",
   "execution_count": 34,
   "metadata": {},
   "outputs": [],
   "source": [
    "# wap given number is palidrom or not \n",
    "# 567 ===>> 765===>>> its not a palidrom\n",
    "# 565 ===>> 565 ==>>> palidrom"
   ]
  },
  {
   "cell_type": "code",
   "execution_count": 36,
   "metadata": {},
   "outputs": [
    {
     "name": "stdout",
     "output_type": "stream",
     "text": [
      "\n"
     ]
    }
   ],
   "source": [
    "# wap find the no of factor of a number and print the factor also\n",
    "# 5\n",
    "'''\n",
    "factor ==>> 1\n",
    "factor ===>> 5\n",
    "total no of factors : 2\n",
    "'''\n",
    "# 10\n",
    "'''\n",
    "factor ==>> 1\n",
    "factor ==>> 2\n",
    "factor ===>> 5\n",
    "factor ===>> 10\n",
    "total no of factors : 4\n",
    "'''\n"
   ]
  },
  {
   "cell_type": "code",
   "execution_count": null,
   "metadata": {},
   "outputs": [],
   "source": [
    "# wap find given number is prime number or not"
   ]
  }
 ],
 "metadata": {
  "kernelspec": {
   "display_name": "Python 2",
   "language": "python",
   "name": "python2"
  },
  "language_info": {
   "codemirror_mode": {
    "name": "ipython",
    "version": 2
   },
   "file_extension": ".py",
   "mimetype": "text/x-python",
   "name": "python",
   "nbconvert_exporter": "python",
   "pygments_lexer": "ipython2",
   "version": "2.7.16"
  }
 },
 "nbformat": 4,
 "nbformat_minor": 2
}
