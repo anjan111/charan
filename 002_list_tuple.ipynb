{
 "cells": [
  {
   "cell_type": "markdown",
   "metadata": {},
   "source": [
    "# list :-\n",
    "\n",
    "===>>> collection of data elements with in [ ]\n",
    "\n",
    "===>>> we can store different kind of daatatype elementws ---> hetro genious datatype\n",
    "\n",
    "===>>> Nested list ===>> we can store seqencial datatype element ( listwith in list )\n",
    "\n",
    "===>>> indexing is used for to access indiviual daata elements from list ( positive / Negative )\n",
    "\n",
    "===>>> List slicing is also posible\n",
    "\n",
    "===>>> List dicing is also possible\n",
    "\n",
    "===>>> nested indixing  ===>>>we can access sub elements form sub list of main list\n",
    "\n",
    "===>>>list is a mutable datatype ===>>> we can modify the exisiting data from list\n",
    "\n",
    "\n",
    "# tuple :-\n",
    "\n",
    "===>>  collection of data elements with in ( )\n",
    "\n",
    "===>>> we can store different kind of daatatype elementws---> hetro genious datatype\n",
    "\n",
    "===>>> Nested tuple ===>> we can store seqencial datatype elements ( tuple with in tuple )\n",
    "\n",
    "===>>> indexing is used for to access indiviual daata elements from tuple ( positive / Negative )\n",
    "\n",
    "===>>> tuple slicing is also possible\n",
    "\n",
    "===>>>  tuple dicing is also possible\n",
    "\n",
    "===>>> nested indixing  ===>>>we can access sub elements form sub tuple of main tuple\n",
    "\n",
    "===>>> it is a immutable datatype ===>> we can't modify the existing data from tuple\n"
   ]
  },
  {
   "cell_type": "code",
   "execution_count": 2,
   "metadata": {},
   "outputs": [
    {
     "name": "stdout",
     "output_type": "stream",
     "text": [
      "[12, 45.565, (9+3j), True]\n",
      "<type 'list'>\n",
      "73064200\n",
      "************\n",
      "(12, 45.565, (9+3j), True)\n",
      "<type 'tuple'>\n",
      "71996584\n"
     ]
    }
   ],
   "source": [
    "var = [ 12,45.565,9+3j,True]\n",
    "print var\n",
    "print type(var)\n",
    "print id(var)\n",
    "print \"************\"\n",
    "var = (  12,45.565,9+3j,True)\n",
    "print var\n",
    "print type(var)\n",
    "print id(var)"
   ]
  },
  {
   "cell_type": "code",
   "execution_count": 3,
   "metadata": {},
   "outputs": [
    {
     "name": "stdout",
     "output_type": "stream",
     "text": [
      "['str', [1, 2, 3], (1, 2, 3), set([1, 2, 3]), {12: 'kj'}]\n",
      "<type 'list'>\n",
      "67587208\n",
      "************\n",
      "('str', [1, 2, 3], (1, 2, 3), set([1, 2, 3]), {12: 'kj'})\n",
      "<type 'tuple'>\n",
      "73873896\n"
     ]
    }
   ],
   "source": [
    "var = [\"str\", [1,2,3],(1,2,3),{1,2,3},{12:\"kj\"}]\n",
    "print var\n",
    "print type(var)\n",
    "print id(var)\n",
    "print \"************\"\n",
    "var = (\"str\", [1,2,3],(1,2,3),{1,2,3},{12:\"kj\"})\n",
    "print var\n",
    "print type(var)\n",
    "print id(var)"
   ]
  },
  {
   "cell_type": "code",
   "execution_count": 5,
   "metadata": {},
   "outputs": [
    {
     "name": "stdout",
     "output_type": "stream",
     "text": [
      "12\n",
      "45\n",
      "89\n",
      "89\n",
      "45\n",
      "12\n"
     ]
    }
   ],
   "source": [
    "var = [12,45,89]\n",
    "print var[0]\n",
    "print var[1]\n",
    "print var[2]\n",
    "print var[-1]\n",
    "print var[-2]\n",
    "print var[-3]"
   ]
  },
  {
   "cell_type": "code",
   "execution_count": 7,
   "metadata": {},
   "outputs": [
    {
     "name": "stdout",
     "output_type": "stream",
     "text": [
      "12\n",
      "45\n",
      "89\n",
      "89\n",
      "45\n",
      "12\n"
     ]
    }
   ],
   "source": [
    "var = (12,45,89)\n",
    "print var[0]\n",
    "print var[1]\n",
    "print var[2]\n",
    "print var[-1]\n",
    "print var[-2]\n",
    "print var[-3]"
   ]
  },
  {
   "cell_type": "code",
   "execution_count": 8,
   "metadata": {},
   "outputs": [
    {
     "name": "stdout",
     "output_type": "stream",
     "text": [
      "[23, 90, 12, 89]\n"
     ]
    }
   ],
   "source": [
    "var =[ 12,89,23,90,12,89,34]\n",
    "print var[2: 6]\n"
   ]
  },
  {
   "cell_type": "code",
   "execution_count": 10,
   "metadata": {},
   "outputs": [
    {
     "name": "stdout",
     "output_type": "stream",
     "text": [
      "(23, 90, 12, 89)\n"
     ]
    }
   ],
   "source": [
    "var =(12,89,23,90,12,89,34)\n",
    "print var[2: 6]\n"
   ]
  },
  {
   "cell_type": "code",
   "execution_count": 11,
   "metadata": {},
   "outputs": [
    {
     "name": "stdout",
     "output_type": "stream",
     "text": [
      "[89, 90, 89]\n"
     ]
    }
   ],
   "source": [
    "var =[ 12,89,23,90,12,89,34]\n",
    "print var[1:7:2]\n"
   ]
  },
  {
   "cell_type": "code",
   "execution_count": 13,
   "metadata": {},
   "outputs": [
    {
     "name": "stdout",
     "output_type": "stream",
     "text": [
      "(89, 90, 89)\n"
     ]
    }
   ],
   "source": [
    "var =(12,89,23,90,12,89,34)\n",
    "print var[1:7:2]\n"
   ]
  },
  {
   "cell_type": "code",
   "execution_count": 14,
   "metadata": {},
   "outputs": [
    {
     "name": "stdout",
     "output_type": "stream",
     "text": [
      "python\n",
      "t\n",
      "[12, 34, 4]\n",
      "[12, 4]\n"
     ]
    }
   ],
   "source": [
    "var = [\"python\", [12,34,4],(1,2,3)]\n",
    "print var[0]# \"python\"\n",
    "print var[0][2] # 't'\n",
    "print var[1] #[12,34,4]\n",
    "print var[1][0:3:2] #[12,4]"
   ]
  },
  {
   "cell_type": "code",
   "execution_count": 15,
   "metadata": {},
   "outputs": [
    {
     "name": "stdout",
     "output_type": "stream",
     "text": [
      "python\n",
      "t\n",
      "[12, 34, 4]\n",
      "[12, 4]\n"
     ]
    }
   ],
   "source": [
    "var = (\"python\", [12,34,4],(1,2,3))\n",
    "print var[0]# \"python\"\n",
    "print var[0][2] # 't'\n",
    "print var[1] #[12,34,4]\n",
    "print var[1][0:3:2] #[12,4]"
   ]
  },
  {
   "cell_type": "code",
   "execution_count": 17,
   "metadata": {},
   "outputs": [
    {
     "name": "stdout",
     "output_type": "stream",
     "text": [
      "34\n",
      "[12, 120]\n"
     ]
    }
   ],
   "source": [
    "var = [12,34]\n",
    "print var[1]\n",
    "var[1] = 120\n",
    "print var"
   ]
  },
  {
   "cell_type": "code",
   "execution_count": 18,
   "metadata": {},
   "outputs": [
    {
     "name": "stdout",
     "output_type": "stream",
     "text": [
      "34\n"
     ]
    },
    {
     "ename": "TypeError",
     "evalue": "'tuple' object does not support item assignment",
     "output_type": "error",
     "traceback": [
      "\u001b[1;31m---------------------------------------------------------------------------\u001b[0m",
      "\u001b[1;31mTypeError\u001b[0m                                 Traceback (most recent call last)",
      "\u001b[1;32m<ipython-input-18-ae416c2537b5>\u001b[0m in \u001b[0;36m<module>\u001b[1;34m()\u001b[0m\n\u001b[0;32m      1\u001b[0m \u001b[0mvar\u001b[0m \u001b[1;33m=\u001b[0m \u001b[1;33m(\u001b[0m\u001b[1;36m12\u001b[0m\u001b[1;33m,\u001b[0m\u001b[1;36m34\u001b[0m\u001b[1;33m)\u001b[0m\u001b[1;33m\u001b[0m\u001b[0m\n\u001b[0;32m      2\u001b[0m \u001b[1;32mprint\u001b[0m \u001b[0mvar\u001b[0m\u001b[1;33m[\u001b[0m\u001b[1;36m1\u001b[0m\u001b[1;33m]\u001b[0m\u001b[1;33m\u001b[0m\u001b[0m\n\u001b[1;32m----> 3\u001b[1;33m \u001b[0mvar\u001b[0m\u001b[1;33m[\u001b[0m\u001b[1;36m1\u001b[0m\u001b[1;33m]\u001b[0m \u001b[1;33m=\u001b[0m \u001b[1;36m120\u001b[0m\u001b[1;33m\u001b[0m\u001b[0m\n\u001b[0m\u001b[0;32m      4\u001b[0m \u001b[1;32mprint\u001b[0m \u001b[0mvar\u001b[0m\u001b[1;33m\u001b[0m\u001b[0m\n",
      "\u001b[1;31mTypeError\u001b[0m: 'tuple' object does not support item assignment"
     ]
    }
   ],
   "source": [
    "var = (12,34)\n",
    "print var[1]\n",
    "var[1] = 120\n",
    "print var"
   ]
  },
  {
   "cell_type": "code",
   "execution_count": 20,
   "metadata": {},
   "outputs": [
    {
     "name": "stdout",
     "output_type": "stream",
     "text": [
      "(12, 45)\n",
      "<type 'tuple'>\n",
      "<type 'list'>\n",
      "<type 'tuple'>\n",
      "(12, 450)\n"
     ]
    }
   ],
   "source": [
    "# tuple we can't modify directly so that we can indirect way\n",
    "\n",
    "# step 1 =====>>>> tuple ---------> list\n",
    "\n",
    "# step 2 ======>>> list ----->> modify\n",
    "\n",
    "# step 3 =====>>> list -----> tuple\n",
    "\n",
    "var = (12,45)\n",
    "print var\n",
    "print type(var)\n",
    "var = list(var)\n",
    "print type(var)\n",
    "var[1]=450\n",
    "var = tuple(var)\n",
    "print type(var)\n",
    "print var"
   ]
  },
  {
   "cell_type": "code",
   "execution_count": 21,
   "metadata": {},
   "outputs": [
    {
     "name": "stdout",
     "output_type": "stream",
     "text": [
      "['__add__', '__class__', '__contains__', '__delattr__', '__delitem__', '__delslice__', '__doc__', '__eq__', '__format__', '__ge__', '__getattribute__', '__getitem__', '__getslice__', '__gt__', '__hash__', '__iadd__', '__imul__', '__init__', '__iter__', '__le__', '__len__', '__lt__', '__mul__', '__ne__', '__new__', '__reduce__', '__reduce_ex__', '__repr__', '__reversed__', '__rmul__', '__setattr__', '__setitem__', '__setslice__', '__sizeof__', '__str__', '__subclasshook__', 'append', 'count', 'extend', 'index', 'insert', 'pop', 'remove', 'reverse', 'sort']\n"
     ]
    }
   ],
   "source": [
    "# list manipulation\n",
    "\n",
    "print dir(list)"
   ]
  },
  {
   "cell_type": "code",
   "execution_count": 24,
   "metadata": {},
   "outputs": [
    {
     "name": "stdout",
     "output_type": "stream",
     "text": [
      "[12, 34, 90]\n",
      "[12, 34, 90, 45]\n"
     ]
    }
   ],
   "source": [
    "#'append', 'count', 'extend', 'index', 'insert', 'pop', 'remove', 'reverse', 'sort'\n",
    "\n",
    "var = [12,34,90]\n",
    "print var\n",
    "var.append(45)\n",
    "print var"
   ]
  },
  {
   "cell_type": "code",
   "execution_count": 25,
   "metadata": {},
   "outputs": [
    {
     "name": "stdout",
     "output_type": "stream",
     "text": [
      "4\n"
     ]
    }
   ],
   "source": [
    "var =[12,45,12,56,12,90,12]\n",
    "print var.count(12)"
   ]
  },
  {
   "cell_type": "code",
   "execution_count": 27,
   "metadata": {},
   "outputs": [
    {
     "name": "stdout",
     "output_type": "stream",
     "text": [
      "[12, 34]\n",
      "[67, 34, 90]\n",
      "[12, 34, 67, 34, 90]\n",
      "[67, 34, 90]\n"
     ]
    }
   ],
   "source": [
    "a = [12,34]\n",
    "b = [67,34,90]\n",
    "print a\n",
    "print b\n",
    "a.extend(b)\n",
    "print a\n",
    "print b"
   ]
  },
  {
   "cell_type": "code",
   "execution_count": 29,
   "metadata": {},
   "outputs": [
    {
     "name": "stdout",
     "output_type": "stream",
     "text": [
      "1\n"
     ]
    }
   ],
   "source": [
    "a = [12,34,90]\n",
    "print a.index(34)"
   ]
  },
  {
   "cell_type": "code",
   "execution_count": 31,
   "metadata": {},
   "outputs": [
    {
     "name": "stdout",
     "output_type": "stream",
     "text": [
      "[12, 34, 12, 90]\n"
     ]
    }
   ],
   "source": [
    "a =[12,34,90]\n",
    "a.insert(2,12)\n",
    "print a"
   ]
  },
  {
   "cell_type": "code",
   "execution_count": 34,
   "metadata": {},
   "outputs": [
    {
     "name": "stdout",
     "output_type": "stream",
     "text": [
      "[12, 34, 90]\n",
      "90\n",
      "[12, 34]\n",
      "[12, 34, 90]\n",
      "34\n",
      "[12, 90]\n"
     ]
    }
   ],
   "source": [
    "a =[12,34,90]\n",
    "print a\n",
    "print a.pop()\n",
    "print a\n",
    "a =[12,34,90]\n",
    "print a\n",
    "print a.pop(1)\n",
    "print a"
   ]
  },
  {
   "cell_type": "code",
   "execution_count": 35,
   "metadata": {},
   "outputs": [
    {
     "name": "stdout",
     "output_type": "stream",
     "text": [
      "[12, 34, 90]\n",
      "[12, 90]\n"
     ]
    }
   ],
   "source": [
    "a =[12,34,90]\n",
    "print a\n",
    "a.remove(34)\n",
    "print a"
   ]
  },
  {
   "cell_type": "code",
   "execution_count": 36,
   "metadata": {},
   "outputs": [
    {
     "name": "stdout",
     "output_type": "stream",
     "text": [
      "[90, 12, 78, 2]\n",
      "[2, 12, 78, 90]\n"
     ]
    }
   ],
   "source": [
    "a = [90,12,78,2]\n",
    "print a\n",
    "a.sort()\n",
    "print a"
   ]
  },
  {
   "cell_type": "code",
   "execution_count": 37,
   "metadata": {},
   "outputs": [
    {
     "name": "stdout",
     "output_type": "stream",
     "text": [
      "[90, 12, 78, 2]\n",
      "[2, 78, 12, 90]\n"
     ]
    }
   ],
   "source": [
    "a = [90,12,78,2]\n",
    "print a\n",
    "a.reverse()\n",
    "print a"
   ]
  },
  {
   "cell_type": "code",
   "execution_count": null,
   "metadata": {},
   "outputs": [],
   "source": []
  },
  {
   "cell_type": "code",
   "execution_count": 38,
   "metadata": {},
   "outputs": [
    {
     "name": "stdout",
     "output_type": "stream",
     "text": [
      "['__add__', '__class__', '__contains__', '__delattr__', '__doc__', '__eq__', '__format__', '__ge__', '__getattribute__', '__getitem__', '__getnewargs__', '__getslice__', '__gt__', '__hash__', '__init__', '__iter__', '__le__', '__len__', '__lt__', '__mul__', '__ne__', '__new__', '__reduce__', '__reduce_ex__', '__repr__', '__rmul__', '__setattr__', '__sizeof__', '__str__', '__subclasshook__', 'count', 'index']\n"
     ]
    }
   ],
   "source": [
    "print dir(tuple)"
   ]
  },
  {
   "cell_type": "code",
   "execution_count": 39,
   "metadata": {},
   "outputs": [
    {
     "name": "stdout",
     "output_type": "stream",
     "text": [
      "2\n"
     ]
    }
   ],
   "source": [
    "var = (12,45,12)\n",
    "print var.count(12)"
   ]
  },
  {
   "cell_type": "code",
   "execution_count": 40,
   "metadata": {},
   "outputs": [
    {
     "name": "stdout",
     "output_type": "stream",
     "text": [
      "1\n"
     ]
    }
   ],
   "source": [
    "var = (12,45,12)\n",
    "print var.index(45)"
   ]
  },
  {
   "cell_type": "code",
   "execution_count": null,
   "metadata": {},
   "outputs": [],
   "source": []
  },
  {
   "cell_type": "code",
   "execution_count": null,
   "metadata": {},
   "outputs": [],
   "source": []
  }
 ],
 "metadata": {
  "kernelspec": {
   "display_name": "Python 2",
   "language": "python",
   "name": "python2"
  },
  "language_info": {
   "codemirror_mode": {
    "name": "ipython",
    "version": 2
   },
   "file_extension": ".py",
   "mimetype": "text/x-python",
   "name": "python",
   "nbconvert_exporter": "python",
   "pygments_lexer": "ipython2",
   "version": "2.7.16"
  }
 },
 "nbformat": 4,
 "nbformat_minor": 2
}
