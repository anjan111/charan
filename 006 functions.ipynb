{
 "cells": [
  {
   "cell_type": "code",
   "execution_count": 5,
   "metadata": {},
   "outputs": [
    {
     "name": "stdout",
     "output_type": "stream",
     "text": [
      "enter name : \"anjan\"\n",
      "enter age  : 26\n",
      "name :  anjan\n",
      "age :  26\n",
      "enter name : \"charan\"\n",
      "enter age  : 35\n",
      "name :  charan\n",
      "age :  35\n"
     ]
    }
   ],
   "source": [
    "# waf take your details and print it \n",
    "def details():\n",
    "    name = input(\"enter name : \")\n",
    "    age  = input(\"enter age  : \")\n",
    "    print \"name : \",name\n",
    "    print \"age : \",age\n",
    "details()\n",
    "details()"
   ]
  },
  {
   "cell_type": "code",
   "execution_count": 7,
   "metadata": {},
   "outputs": [
    {
     "name": "stdout",
     "output_type": "stream",
     "text": [
      "name :  anjan\n",
      "age :  26\n",
      "name :  charan\n",
      "age :  35\n"
     ]
    }
   ],
   "source": [
    "# arguments \n",
    "'''\n",
    "==>> access the data from function call to function defination\n",
    "'''\n",
    "def details(name,age):\n",
    "    print \"name : \",name\n",
    "    print \"age : \",age\n",
    "details(\"anjan\" , 26)\n",
    "details(\"charan\",35)"
   ]
  },
  {
   "cell_type": "code",
   "execution_count": 9,
   "metadata": {},
   "outputs": [
    {
     "name": "stdout",
     "output_type": "stream",
     "text": [
      "name :  anjan\n",
      "age :  26\n"
     ]
    },
    {
     "ename": "TypeError",
     "evalue": "details() takes exactly 2 arguments (1 given)",
     "output_type": "error",
     "traceback": [
      "\u001b[1;31m---------------------------------------------------------------------------\u001b[0m",
      "\u001b[1;31mTypeError\u001b[0m                                 Traceback (most recent call last)",
      "\u001b[1;32m<ipython-input-9-c0c159a2e9ba>\u001b[0m in \u001b[0;36m<module>\u001b[1;34m()\u001b[0m\n\u001b[0;32m      3\u001b[0m     \u001b[1;32mprint\u001b[0m \u001b[1;34m\"age : \"\u001b[0m\u001b[1;33m,\u001b[0m\u001b[0mage\u001b[0m\u001b[1;33m\u001b[0m\u001b[0m\n\u001b[0;32m      4\u001b[0m \u001b[0mdetails\u001b[0m\u001b[1;33m(\u001b[0m\u001b[1;34m\"anjan\"\u001b[0m \u001b[1;33m,\u001b[0m \u001b[1;36m26\u001b[0m\u001b[1;33m)\u001b[0m\u001b[1;33m\u001b[0m\u001b[0m\n\u001b[1;32m----> 5\u001b[1;33m \u001b[0mdetails\u001b[0m\u001b[1;33m(\u001b[0m\u001b[1;36m35\u001b[0m\u001b[1;33m)\u001b[0m\u001b[1;33m\u001b[0m\u001b[0m\n\u001b[0m",
      "\u001b[1;31mTypeError\u001b[0m: details() takes exactly 2 arguments (1 given)"
     ]
    }
   ],
   "source": [
    "def details(name,age):\n",
    "    print \"name : \",name\n",
    "    print \"age : \",age\n",
    "details(\"anjan\" , 26)\n",
    "details(35)"
   ]
  },
  {
   "cell_type": "code",
   "execution_count": 11,
   "metadata": {},
   "outputs": [
    {
     "name": "stdout",
     "output_type": "stream",
     "text": [
      "name :  anjan\n",
      "age :  26\n",
      "name :  35\n",
      "age :  None\n"
     ]
    }
   ],
   "source": [
    "# default argument \n",
    "\n",
    "def details(name=None,age=None):\n",
    "    print \"name : \",name\n",
    "    print \"age : \",age\n",
    "details(\"anjan\" , 26)\n",
    "details(35)"
   ]
  },
  {
   "cell_type": "code",
   "execution_count": 13,
   "metadata": {},
   "outputs": [
    {
     "name": "stdout",
     "output_type": "stream",
     "text": [
      "enter name : 45\n",
      "enter age  : 78\n",
      "45\n",
      "78\n",
      "enter name : 89\n",
      "enter age  : 78\n",
      "(89, 78)\n"
     ]
    }
   ],
   "source": [
    "# return\n",
    "'''\n",
    "===>>> stop / terminate the function\n",
    "===>>> sending the data from function defination to function call\n",
    "'''\n",
    "def details():\n",
    "    name = input(\"enter name : \")\n",
    "    age  = input(\"enter age  : \")\n",
    "    return name,age\n",
    "name , age = details()\n",
    "print name \n",
    "print age\n",
    "print details()\n"
   ]
  },
  {
   "cell_type": "code",
   "execution_count": 15,
   "metadata": {},
   "outputs": [
    {
     "name": "stdout",
     "output_type": "stream",
     "text": [
      "100\n"
     ]
    },
    {
     "ename": "NameError",
     "evalue": "name 'var' is not defined",
     "output_type": "error",
     "traceback": [
      "\u001b[1;31m---------------------------------------------------------------------------\u001b[0m",
      "\u001b[1;31mNameError\u001b[0m                                 Traceback (most recent call last)",
      "\u001b[1;32m<ipython-input-15-036d170bd73e>\u001b[0m in \u001b[0;36m<module>\u001b[1;34m()\u001b[0m\n\u001b[0;32m      4\u001b[0m     \u001b[1;32mprint\u001b[0m \u001b[0mvar\u001b[0m\u001b[1;33m\u001b[0m\u001b[0m\n\u001b[0;32m      5\u001b[0m \u001b[0mfun\u001b[0m\u001b[1;33m(\u001b[0m\u001b[1;33m)\u001b[0m\u001b[1;33m\u001b[0m\u001b[0m\n\u001b[1;32m----> 6\u001b[1;33m \u001b[1;32mprint\u001b[0m \u001b[0mvar\u001b[0m\u001b[1;33m\u001b[0m\u001b[0m\n\u001b[0m",
      "\u001b[1;31mNameError\u001b[0m: name 'var' is not defined"
     ]
    }
   ],
   "source": [
    "# local variables\n",
    "def fun():\n",
    "    var =100 # local variable\n",
    "    print var\n",
    "fun()\n",
    "print var"
   ]
  },
  {
   "cell_type": "code",
   "execution_count": 16,
   "metadata": {},
   "outputs": [
    {
     "name": "stdout",
     "output_type": "stream",
     "text": [
      "123\n",
      "123\n",
      "456\n",
      "456\n"
     ]
    }
   ],
   "source": [
    "# default global variable\n",
    "var = 123 # default global variable\n",
    "def fun():\n",
    "    print var\n",
    "fun()\n",
    "print var\n",
    "var = 456\n",
    "fun()\n",
    "print var"
   ]
  },
  {
   "cell_type": "code",
   "execution_count": 17,
   "metadata": {},
   "outputs": [
    {
     "name": "stdout",
     "output_type": "stream",
     "text": [
      "456\n",
      "456\n"
     ]
    }
   ],
   "source": [
    "# global variable\n",
    "def fun():\n",
    "    global var\n",
    "    var =456\n",
    "    print var\n",
    "fun()\n",
    "print var"
   ]
  },
  {
   "cell_type": "code",
   "execution_count": null,
   "metadata": {},
   "outputs": [],
   "source": [
    "##### waf for finding factorial of a number \n",
    "\n",
    "#### waf for fibonic series element\n",
    "\n",
    "#### waf for given number is prime or not \n",
    "\n",
    "#### waf for given number is palidrom or not\n",
    "\n",
    "### waf find the prime numbers in between range of elements"
   ]
  }
 ],
 "metadata": {
  "kernelspec": {
   "display_name": "Python 2",
   "language": "python",
   "name": "python2"
  },
  "language_info": {
   "codemirror_mode": {
    "name": "ipython",
    "version": 2
   },
   "file_extension": ".py",
   "mimetype": "text/x-python",
   "name": "python",
   "nbconvert_exporter": "python",
   "pygments_lexer": "ipython2",
   "version": "2.7.16"
  }
 },
 "nbformat": 4,
 "nbformat_minor": 2
}
